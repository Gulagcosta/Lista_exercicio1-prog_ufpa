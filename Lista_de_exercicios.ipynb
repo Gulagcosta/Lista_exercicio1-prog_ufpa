{
  "nbformat": 4,
  "nbformat_minor": 0,
  "metadata": {
    "colab": {
      "provenance": [],
      "collapsed_sections": [],
      "authorship_tag": "ABX9TyO9lpqGEzOPdHWjZOHVIVbA",
      "include_colab_link": true
    },
    "kernelspec": {
      "name": "python3",
      "display_name": "Python 3"
    },
    "language_info": {
      "name": "python"
    }
  },
  "cells": [
    {
      "cell_type": "markdown",
      "metadata": {
        "id": "view-in-github",
        "colab_type": "text"
      },
      "source": [
        "<a href=\"https://colab.research.google.com/github/Gulagcosta/Lista_exercicio1-prog_ufpa/blob/main/Lista_de_exercicios.ipynb\" target=\"_parent\"><img src=\"https://colab.research.google.com/assets/colab-badge.svg\" alt=\"Open In Colab\"/></a>"
      ]
    },
    {
      "cell_type": "code",
      "execution_count": null,
      "metadata": {
        "colab": {
          "base_uri": "https://localhost:8080/"
        },
        "id": "9NOD4-BZ6lQO",
        "outputId": "687021f9-e7ba-49a6-a33d-d0c34e2b1179"
      },
      "outputs": [
        {
          "output_type": "stream",
          "name": "stdout",
          "text": [
            "Alo mundo\n"
          ]
        }
      ],
      "source": [
        "#1 questão\n",
        "print(\"Alo mundo\")\n"
      ]
    },
    {
      "cell_type": "code",
      "source": [
        "#2 questão\n",
        "msg = input(\"Informe um número: \")\n",
        "print(msg)"
      ],
      "metadata": {
        "id": "e67nthCj7FHg"
      },
      "execution_count": null,
      "outputs": []
    },
    {
      "cell_type": "code",
      "source": [
        "#3 questão\n",
        "x = int(input(\"Digite o primeiro valor: \"))\n",
        "y = int(input(\"Digite o segundo valor: \"))\n",
        "print(x+y)"
      ],
      "metadata": {
        "id": "VnpkK7227koh"
      },
      "execution_count": null,
      "outputs": []
    },
    {
      "cell_type": "code",
      "source": [
        "#4 questão\n",
        "pri = int(input(\"Digite a primeira avaliação: \"))\n",
        "seg = int(input(\"Digite o segunda avaliação: \"))\n",
        "ter = int(input(\"Digite o terceira avaliação: \"))\n",
        "qua = int(input(\"Digite o quarta avaliação: \"))\n",
        "print(\"A media do aluno é:\",(seg+pri+ter+qua)/4)"
      ],
      "metadata": {
        "id": "P36JA0kG7tdz"
      },
      "execution_count": null,
      "outputs": []
    },
    {
      "cell_type": "code",
      "source": [
        "#5 questão\n",
        "x = float(input(\"Digite a medida em metros a ser convertida: \"))\n",
        "print(x*100,\"centimetros\")"
      ],
      "metadata": {
        "id": "6WCAjEC878A2"
      },
      "execution_count": null,
      "outputs": []
    },
    {
      "cell_type": "code",
      "source": [
        "#6 questão\n",
        "pi=3.142\n",
        "x = float(input(\"Digite o raio do circulo: \"))\n",
        "print(\"A área do circulo é\",pi*(x*x))"
      ],
      "metadata": {
        "id": "HXTM1yho8Edh"
      },
      "execution_count": null,
      "outputs": []
    },
    {
      "cell_type": "code",
      "source": [
        "#7 questão\n",
        "x = float(input(\"Digite a altura do quadrado: \"))\n",
        "y = float(input(\"Digite a largura do quadrado: \"))\n",
        "xy = (x*y)\n",
        "print(\"A área do quadrado é:\",xy)\n",
        "print(\"O dobro da área do quadrado é:\",xy*2)"
      ],
      "metadata": {
        "id": "EmxmJzzy8K4b"
      },
      "execution_count": null,
      "outputs": []
    },
    {
      "cell_type": "code",
      "source": [
        "#8 questão\n",
        "x = float(input(\"Digite quanto você ganha por hora trabalhada: \"))\n",
        "y = int(input(\"Digite quantas horas você trabalhou no mês: \"))\n",
        "print(\"Seu salário do mês: \", x*y)"
      ],
      "metadata": {
        "id": "NGDIhcU08ToB"
      },
      "execution_count": null,
      "outputs": []
    },
    {
      "cell_type": "code",
      "source": [
        "#9 questão\n",
        "x = float(input(\"Digite a temperatura em graus Fahrenheit: \"))\n",
        "print(\"A temperatura em graus Celsius é:\", 5*((x-32)/9))"
      ],
      "metadata": {
        "id": "SNVxYuQT85fM"
      },
      "execution_count": null,
      "outputs": []
    },
    {
      "cell_type": "code",
      "source": [
        "#10 questão\n",
        "x = float(input(\"Digite a temperatura em graus Celcius: \"))\n",
        "print(\"A temperatura em graus Fahrenheit é:\", (x*1.8)+32)"
      ],
      "metadata": {
        "id": "lwiEL8EQ9BAY"
      },
      "execution_count": null,
      "outputs": []
    },
    {
      "cell_type": "code",
      "source": [
        "#11 questão\n",
        "x = int(input(\"Digite o primeiro valor: \"))\n",
        "y = int(input(\"Digite o segundo valor: \"))\n",
        "z = int(input(\"Digite o terceiro valor: \"))\n",
        "print(\"O produto do dobro do primeiro com metade do segundo:\", (x*2)*(y/2))\n",
        "print(\"A soma do triplo do primeiro com o terceiro:\", (x*3)+z)\n",
        "print(\"O terceiro elevado ao cubo:\", z**3)"
      ],
      "metadata": {
        "id": "uoqV8MtX9KoV"
      },
      "execution_count": null,
      "outputs": []
    },
    {
      "cell_type": "code",
      "source": [
        "#12 questão\n",
        "x = float(input(\"Digite a sua altura: \"))\n",
        "print(\"Seu peso ideal é:\", (72.7*x)-58)"
      ],
      "metadata": {
        "id": "KOFwg8vE9RhC"
      },
      "execution_count": null,
      "outputs": []
    },
    {
      "cell_type": "code",
      "source": [
        "#13 questão\n",
        "x = float(input(\"Digite a sua altura: \"))\n",
        "print(\"O peso ideal se você é homem:\", (72.7*x)-58)\n",
        "print(\"O peso ideal se você é mulher:\", (62.1*x)-44.7)"
      ],
      "metadata": {
        "id": "R1dQ193-9ZYy"
      },
      "execution_count": null,
      "outputs": []
    },
    {
      "cell_type": "code",
      "source": [
        "#14 questão\n",
        "x = float(input(\"Digite a quantidade de peixes em quilos: \"))\n",
        "if x<50: \n",
        "    y=0\n",
        "    m=0\n",
        "else: \n",
        "    y = x-50\n",
        "    m = 4*y\n",
        "format(m,\".0f\")\n",
        "print(f\"\\nvocê pegou {x}Kg de peixe. \\nO peso excedente foi de {y}Kg. \\nA multa será de {m} reais.\\n\")"
      ],
      "metadata": {
        "id": "BExI_pYT9jHt"
      },
      "execution_count": null,
      "outputs": []
    },
    {
      "cell_type": "code",
      "source": [
        "#15 questão \n",
        "x = float(input(\"Digite quanto você ganha por hora trabalhada: \"))\n",
        "y = int(input(\"Digite quantas horas você trabalhou no mês: \"))\n",
        "sal = x*y\n",
        "print(\"Salario bruto:\",sal)\n",
        "inss = sal*0.08\n",
        "print(\"Contribuição para o INSS:\",inss)\n",
        "ir = sal*0.11\n",
        "print(\"Valor imposto de renda:\",ir)\n",
        "sind = sal*0.05\n",
        "print(\"O valor da contribuição para o sindicato:\", sind)\n",
        "print(\"Salario liquido:\",sal-(inss+ir+sind))"
      ],
      "metadata": {
        "id": "mAA_XmxoBVRb"
      },
      "execution_count": null,
      "outputs": []
    },
    {
      "cell_type": "code",
      "source": [
        "#16 questão\n",
        "x = float(input(\"Digite o tamanho da área que será pintada: \"))\n",
        "tint = 18*6\n",
        "nec = x/tint #tinta necessaria#\n",
        "nec = round(nec+0.5)\n",
        "print(\"Será necessario comprar %d lata(s) de tinta, que custará %d\" %(nec,nec*80))"
      ],
      "metadata": {
        "id": "8_HzqvJXHWF1"
      },
      "execution_count": null,
      "outputs": []
    },
    {
      "cell_type": "code",
      "source": [
        "#17 questão\n",
        "x = float(input(\"Digite o tamanho da área em metros quadrados que será pintada: \"))\n",
        "lata = 18*6\n",
        "galao = 3.6*6\n",
        "necl = x/lata #tinta necessaria lata#\n",
        "necl = round(necl+0.5)\n",
        "necg = x/galao #tinta necessaria galao#\n",
        "necg = round(necg+0.5)\n",
        "print(\"Será necessario comprar %d lata(s) de tinta, que custará %d\" %(necl,necl*80))\n",
        "print(\"Será necessario comprar %d galão(ões) de tinta, que custará %d\" %(necg,necg*25))\n",
        "lt = x/6                                #aqui inicia o calculo da mistura#\n",
        "mlata = int(lt / 18.0)\n",
        "mgalao = int((lt - (mlata * 18)) / 3.6)\n",
        "if lt - (mlata * 18) % 3.6 != 0:\n",
        "    mgalao += 1\n",
        "totalm = (mlata * 80) + (mgalao * 25)\n",
        "print(f\"Mistura: {mlata:.0f} latas e {mgalao:.0f} galões necessaria entre os dois: {totalm:.2f}\")"
      ],
      "metadata": {
        "id": "PwoUTmaXUDcM"
      },
      "execution_count": null,
      "outputs": []
    },
    {
      "cell_type": "code",
      "source": [
        "#18 questão\n",
        "x = float(input(\"Digite o tamanho do arquivo que deseja fazer download em MB: \"))\n",
        "y = float(input(\"Digite a velocidade do seu link de internet em MBps: \"))\n",
        "tempo = (x/y)\n",
        "min = int(tempo//60)\n",
        "seg = int(tempo%60)\n",
        "print(\"o tempo estimado em minutos é: {}.{}\".format(min,seg))"
      ],
      "metadata": {
        "colab": {
          "base_uri": "https://localhost:8080/"
        },
        "id": "2tv60YKsde6m",
        "outputId": "1a3bb4bc-4ef6-4355-e235-818d3e05911b"
      },
      "execution_count": 52,
      "outputs": [
        {
          "output_type": "stream",
          "name": "stdout",
          "text": [
            "Digite o tamanho do arquivo que deseja fazer download em MB: 100\n",
            "Digite a velocidade do seu link de internet em MBps: 1\n",
            "o tempo estimado em minutos é: 1.40\n"
          ]
        }
      ]
    }
  ]
}